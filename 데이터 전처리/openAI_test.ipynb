{
 "cells": [
  {
   "cell_type": "code",
   "execution_count": null,
   "metadata": {},
   "outputs": [
    {
     "name": "stdout",
     "output_type": "stream",
     "text": [
      "Transcription: 여러분 반갑습니다. 수학을 쉽고 친절하게 알려주는 친절한 영현쌤이에요. 우리 지금까지 삼각형을 변의 길이, 각의 크기에 따라서 분류해 보았죠. 이번 시간에는 이 두 가지 기준을 모두 사용해서 삼각형을 분류해 볼 거예요. 오늘은 지난번에 배운 내용이 많이 나오니까 조금 더 자신감을 갖고 재미있게 공부해 볼까요? 우리 삼각형을 두 가지 기준에 따라서 분류를 했고, 첫 번째 기준은 삼각형을 변의 길이에 따라서 분류하는 것이었습니다. 변의 길이에 따라서는 어떻게 분류할 수 있었나요? 자, 일단 여기서 이 삼각형의 세 변을 살펴보고, 여기서 길이가 같은 변이 몇 개가 있는지를 살펴봤어요. 그리고 거기서 세 변의 길이가 모두 다른 삼각형도 있고, 두 변의 길이가 같으면 이득면 삼각형, 세 변의 길이가 모두 같으면 정삼각형이라고 불렀어요. 그리고 세 변의 길이가 같으면 당연히 두 변의 길이도 같으니까 그걸 이득면 삼각형이라고도 한다고 했었죠. 그래서 선생님은 여기에 있는 이 삼각형들을 보고요. 이득면 삼각형과 세 변의 길이가 모두 다른 삼각형으로 분류를 해 볼 거예요. 먼저, 가부터 볼게요. 자, 가는 어떤가요? 네, 가를 봤더니 여기에 있는 이 두 변의 길이가 같습니다. 그렇다면 이득면 삼각형이라고 할 수 있겠죠? 나는 어때요? 나는 세 변의 길이가 모두 달라요. 따라서 두 번째 빈칸을 써주면 되겠네요. 다음, 다는 어떤가요? 자, 다는요? 여기 이렇게 두 변의 길이가 같으니까 이득면 삼각형이라고 할 수 있고요. 나는 세 변의 길이가 모두 달라요. 그래서 이렇게 써주고요. 또, 안은 어떤가요?\n"
     ]
    }
   ],
   "source": [
    "import openai\n",
    "import os\n",
    "\n",
    "# 환경 변수에 API 키 설정\n",
    "os.environ[\"OPENAI_API_KEY\"] = \"YOUR_API_KEY\"\n",
    "\n",
    "# 환경 변수에서 API 키 가져오기\n",
    "api_key = os.environ.get(\"OPENAI_API_KEY\")\n",
    "\n",
    "if api_key is None:\n",
    "    raise ValueError(\"API 키가 설정되지 않았습니다.\")\n",
    "\n",
    "# OpenAI 클라이언트 설정\n",
    "openai.api_key = api_key\n",
    "\n",
    "# 오디오 파일 열기 및 Whisper 모델로 변환\n",
    "audio_file = open(\"./audio_output.wav\", \"rb\")\n",
    "transcription = openai.Audio.transcribe(\n",
    "    model=\"whisper-1\",\n",
    "    file=audio_file\n",
    ")\n",
    "\n",
    "# 변환된 텍스트 출력\n",
    "print(\"Transcription:\", transcription[\"text\"])\n"
   ]
  }
 ],
 "metadata": {
  "kernelspec": {
   "display_name": "myenv",
   "language": "python",
   "name": "python3"
  },
  "language_info": {
   "codemirror_mode": {
    "name": "ipython",
    "version": 3
   },
   "file_extension": ".py",
   "mimetype": "text/x-python",
   "name": "python",
   "nbconvert_exporter": "python",
   "pygments_lexer": "ipython3",
   "version": "3.9.19"
  }
 },
 "nbformat": 4,
 "nbformat_minor": 2
}
