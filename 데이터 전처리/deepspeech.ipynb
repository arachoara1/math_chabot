{
 "cells": [
  {
   "cell_type": "code",
   "execution_count": 2,
   "metadata": {},
   "outputs": [
    {
     "name": "stdout",
     "output_type": "stream",
     "text": [
      "Warning: 44100 Hz sample rate is not supported. DeepSpeech expects 16000 Hz.\n",
      "Transcription:  fanfaronade antagonism and the tarantella toorenenbergen orientation the rainbow witenagemote someone\n"
     ]
    }
   ],
   "source": [
    "import deepspeech\n",
    "import wave\n",
    "import numpy as np\n",
    "\n",
    "# DeepSpeech 모델 로드\n",
    "model_file_path = r\"C:\\Users\\user\\Downloads\\deepspeech-0.9.3-models.pbmm\"\n",
    "scorer_file_path = r\"C:\\Users\\user\\Downloads\\deepspeech-0.9.3-models.scorer\"\n",
    "\n",
    "model = deepspeech.Model(model_file_path)\n",
    "model.enableExternalScorer(scorer_file_path)\n",
    "\n",
    "# 오디오 파일 열기\n",
    "audio_path = \"output_audio.wav\"\n",
    "with wave.open(audio_path, \"r\") as w:\n",
    "    frames = w.getnframes()\n",
    "    buffer = w.readframes(frames)\n",
    "    audio = np.frombuffer(buffer, dtype=np.int16)\n",
    "\n",
    "# 샘플링 속도 확인 (DeepSpeech는 16000Hz 샘플링 속도를 요구)\n",
    "sample_rate = w.getframerate()\n",
    "if sample_rate != 16000:\n",
    "    print(f\"Warning: {sample_rate} Hz sample rate is not supported. DeepSpeech expects 16000 Hz.\")\n",
    "    # 필요시 resampling 수행\n",
    "\n",
    "# 음성을 텍스트로 변환\n",
    "text = model.stt(audio)\n",
    "print(\"Transcription: \", text)"
   ]
  },
  {
   "cell_type": "code",
   "execution_count": 1,
   "metadata": {},
   "outputs": [
    {
     "name": "stdout",
     "output_type": "stream",
     "text": [
      "Warning: 44100 Hz sample rate is not supported. DeepSpeech expects 16000 Hz.\n",
      "Transcription:  rononghwireghtonh onon negotiator carnotite undertone whatever he sentimentalities aerostation eibarramendia barbarities assimilable nebeneinander emanates cooeperation was in semetipsum hester renouncement foredoomed to canaanite bateese and the meannesses the cancelliere transcendentalist punishment position to forfeiture said the notional teonontogen for an identical and boastingly not producers to interest anyone to these changeable otherwise maman tentative\n"
     ]
    }
   ],
   "source": [
    "import deepspeech\n",
    "import wave\n",
    "import numpy as np\n",
    "from scipy.io import wavfile\n",
    "from scipy.signal import resample\n",
    "\n",
    "# DeepSpeech 모델 로드\n",
    "model_file_path = r\"C:\\Users\\user\\Downloads\\deepspeech-0.9.3-models.pbmm\"\n",
    "scorer_file_path = r\"C:\\Users\\user\\Downloads\\deepspeech-0.9.3-models.scorer\"\n",
    "\n",
    "model = deepspeech.Model(model_file_path)\n",
    "model.enableExternalScorer(scorer_file_path)\n",
    "\n",
    "# 오디오 파일 열기\n",
    "audio_path = \"output_audio.wav\"\n",
    "with wave.open(audio_path, \"r\") as w:\n",
    "    frames = w.getnframes()\n",
    "    buffer = w.readframes(frames)\n",
    "    audio = np.frombuffer(buffer, dtype=np.int16)\n",
    "\n",
    "# 샘플링 속도 확인 (DeepSpeech는 16000Hz 샘플링 속도를 요구)\n",
    "sample_rate = w.getframerate()\n",
    "if sample_rate != 16000:\n",
    "    print(f\"Warning: {sample_rate} Hz sample rate is not supported. DeepSpeech expects 16000 Hz.\")\n",
    "    \n",
    "    # 44100Hz -> 16000Hz로 재샘플링\n",
    "    new_length = int(len(audio) * 16000 / sample_rate)\n",
    "    audio = resample(audio, new_length)\n",
    "    sample_rate = 16000  # 샘플링 속도를 16000Hz로 설정\n",
    "\n",
    "# 음성을 텍스트로 변환\n",
    "text = model.stt(audio.astype(np.int16))  # resample 후 타입을 다시 int16으로 변환\n",
    "print(\"Transcription: \", text)\n"
   ]
  },
  {
   "cell_type": "code",
   "execution_count": 2,
   "metadata": {},
   "outputs": [
    {
     "name": "stdout",
     "output_type": "stream",
     "text": [
      "Warning: 44100 Hz sample rate is not supported. Resampling to 16000 Hz.\n",
      "Transcription:  rononghwireghtonh onon negotiator carnotite undertone whatever he sentimentalities aerostation eibarramendia barbarities assimilable nebeneinander emanates cooeperation was in semetipsum hester renouncement foredoomed to canaanite bateese and the meannesses the cancelliere transcendentalist punishment position to forfeiture said the notional teonontogen for an identical and boastingly not producers to interest anyone to these changeable otherwise maman tentative\n"
     ]
    }
   ],
   "source": [
    "import deepspeech\n",
    "import wave\n",
    "import numpy as np\n",
    "from scipy.signal import resample\n",
    "\n",
    "# DeepSpeech 모델 로드\n",
    "model_file_path = r\"C:\\Users\\user\\Downloads\\deepspeech-0.9.3-models.pbmm\"\n",
    "scorer_file_path = r\"C:\\Users\\user\\Downloads\\deepspeech-0.9.3-models.scorer\"\n",
    "\n",
    "model = deepspeech.Model(model_file_path)\n",
    "model.enableExternalScorer(scorer_file_path)\n",
    "\n",
    "# 오디오 파일 열기\n",
    "audio_path = \"output_audio.wav\"\n",
    "with wave.open(audio_path, \"r\") as w:\n",
    "    frames = w.getnframes()\n",
    "    buffer = w.readframes(frames)\n",
    "    audio = np.frombuffer(buffer, dtype=np.int16)\n",
    "\n",
    "# 샘플링 속도 확인 (DeepSpeech는 16000Hz 샘플링 속도를 요구)\n",
    "sample_rate = w.getframerate()\n",
    "if sample_rate != 16000:\n",
    "    print(f\"Warning: {sample_rate} Hz sample rate is not supported. Resampling to 16000 Hz.\")\n",
    "    \n",
    "    # 44100Hz -> 16000Hz로 재샘플링\n",
    "    new_length = int(len(audio) * 16000 / sample_rate)\n",
    "    audio = resample(audio, new_length)\n",
    "    audio = audio.astype(np.int16)  # 타입을 int16으로 변환\n",
    "    sample_rate = 16000  # 샘플링 속도를 16000Hz로 설정\n",
    "\n",
    "# 음성을 텍스트로 변환\n",
    "text = model.stt(audio)\n",
    "print(\"Transcription: \", text)\n"
   ]
  },
  {
   "cell_type": "code",
   "execution_count": 5,
   "metadata": {},
   "outputs": [
    {
     "name": "stdout",
     "output_type": "stream",
     "text": [
      "Transcription:  ransoming oenotheras senegalese an anonymous leonetto panoukian and calvert in a wild singleside coming without conversation to montemoiselle with ignorance ontological to me in abdominales on passing it something you mean he is careless it all gets had in baseball it amain some crumbs simonson to his finger editorials it all and i thought it unpleasantnesses come peacemaking patrona on the tenseness crompton a packing doroteita i onwanonsyshon tell me that i intonation too it tennyrate i was all in unitarianism of colonsay association it occasionally to drop you look at one oatinna too tony ollavitinus all put to her on a tennessee congenial tell me annapolis to me the origination tennessee eleanor he tony norgate\n"
     ]
    }
   ],
   "source": [
    "import deepspeech\n",
    "import wave\n",
    "import numpy as np\n",
    "from scipy.signal import resample\n",
    "\n",
    "# DeepSpeech 모델 로드\n",
    "model_file_path = r\"C:\\Users\\user\\Downloads\\deepspeech-0.9.3-models.pbmm\"\n",
    "scorer_file_path = r\"C:\\Users\\user\\Downloads\\deepspeech-0.9.3-models.scorer\"\n",
    "\n",
    "model = deepspeech.Model(model_file_path)\n",
    "model.enableExternalScorer(scorer_file_path)\n",
    "\n",
    "# 오디오 파일 열기\n",
    "audio_path = \"output_audio_mono_16000.wav\"  # 모노 오디오 파일 사용\n",
    "with wave.open(audio_path, \"r\") as w:\n",
    "    frames = w.getnframes()\n",
    "    buffer = w.readframes(frames)\n",
    "    audio = np.frombuffer(buffer, dtype=np.int16)\n",
    "\n",
    "# 샘플링 속도 확인 (DeepSpeech는 16000Hz 샘플링 속도를 요구)\n",
    "sample_rate = w.getframerate()\n",
    "if sample_rate != 16000:\n",
    "    print(f\"Warning: {sample_rate} Hz sample rate is not supported. Resampling to 16000 Hz.\")\n",
    "    \n",
    "    # 44100Hz -> 16000Hz로 재샘플링\n",
    "    new_length = int(len(audio) * 16000 / sample_rate)\n",
    "    audio = resample(audio, new_length)\n",
    "    audio = audio.astype(np.int16)  # 타입을 int16으로 변환\n",
    "    sample_rate = 16000  # 샘플링 속도를 16000Hz로 설정\n",
    "\n",
    "# 음성을 텍스트로 변환\n",
    "text = model.stt(audio)\n",
    "print(\"Transcription: \", text)\n",
    "\n"
   ]
  }
 ],
 "metadata": {
  "kernelspec": {
   "display_name": "deepspeech-env",
   "language": "python",
   "name": "python3"
  },
  "language_info": {
   "codemirror_mode": {
    "name": "ipython",
    "version": 3
   },
   "file_extension": ".py",
   "mimetype": "text/x-python",
   "name": "python",
   "nbconvert_exporter": "python",
   "pygments_lexer": "ipython3",
   "version": "3.8.19"
  }
 },
 "nbformat": 4,
 "nbformat_minor": 2
}
