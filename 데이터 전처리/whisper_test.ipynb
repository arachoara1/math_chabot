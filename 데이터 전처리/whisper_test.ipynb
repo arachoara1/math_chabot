{
 "cells": [
  {
   "cell_type": "markdown",
   "metadata": {},
   "source": [
    "## EBS 4학년 수학 강의 동영상 여러 모델 test 해보기\n",
    "[리스트]\n",
    "1. Wav2Vec 2.0(Facebook AI)\n",
    "2. DeepSpeech(Mozilla)\n",
    "3. VOSK(성능떨어질수도)\n",
    "4. Coqui STT(구 DeepSpeech)\n"
   ]
  },
  {
   "cell_type": "code",
   "execution_count": 2,
   "metadata": {},
   "outputs": [
    {
     "name": "stderr",
     "output_type": "stream",
     "text": [
      "c:\\Users\\user\\anaconda3\\envs\\myenv\\lib\\site-packages\\tqdm\\auto.py:21: TqdmWarning: IProgress not found. Please update jupyter and ipywidgets. See https://ipywidgets.readthedocs.io/en/stable/user_install.html\n",
      "  from .autonotebook import tqdm as notebook_tqdm\n"
     ]
    },
    {
     "name": "stdout",
     "output_type": "stream",
     "text": [
      "WARNING:tensorflow:From c:\\Users\\user\\anaconda3\\envs\\myenv\\lib\\site-packages\\tf_keras\\src\\losses.py:2976: The name tf.losses.sparse_softmax_cross_entropy is deprecated. Please use tf.compat.v1.losses.sparse_softmax_cross_entropy instead.\n",
      "\n"
     ]
    }
   ],
   "source": [
    "import os\n",
    "from transformers import pipeline\n",
    "import ffmpeg as ff\n",
    "# large\n",
    "\n",
    "\n",
    "os.environ[\n",
    "    \"PATH\"\n",
    "] += r\" ;C:\\\\Users\\\\user\\\\AppData\\\\Local\\\\Microsoft\\\\WinGet\\\\Packages\\\\Gyan.FFmpeg_Microsoft.Winget.Source_8wekyb3d8bbwe\\\\ffmpeg-7.0.2-full_build\\\\bin\"\n",
    "\n",
    "whisper_small = pipeline(\"automatic-speech-recognition\", \"openai/whisper-small\")\n",
    "whisper_medium = pipeline(\"automatic-speech-recognition\",\"openai/whisper-medium\" )\n",
    "whisper_large = pipeline(\"automatic-speech-recognition\", \"openai/whisper-large-v3\")"
   ]
  },
  {
   "cell_type": "code",
   "execution_count": 3,
   "metadata": {},
   "outputs": [
    {
     "name": "stderr",
     "output_type": "stream",
     "text": [
      "c:\\Users\\user\\anaconda3\\envs\\myenv\\lib\\site-packages\\transformers\\models\\whisper\\generation_whisper.py:496: FutureWarning: The input name `inputs` is deprecated. Please make sure to use `input_features` instead.\n",
      "  warnings.warn(\n",
      "Due to a bug fix in https://github.com/huggingface/transformers/pull/28687 transcription using a multilingual Whisper will default to language detection followed by transcription instead of translation to English.This might be a breaking change for your use case. If you want to instead always translate your audio to English, make sure to pass `language='en'`.\n",
      "Passing a tuple of `past_key_values` is deprecated and will be removed in Transformers v4.43.0. You should pass an instance of `EncoderDecoderCache` instead, e.g. `past_key_values=EncoderDecoderCache.from_legacy_cache(past_key_values)`.\n",
      "The attention mask is not set and cannot be inferred from input because pad token is same as eos token. As a consequence, you may observe unexpected behavior. Please pass your input's `attention_mask` to obtain reliable results.\n"
     ]
    },
    {
     "name": "stdout",
     "output_type": "stream",
     "text": [
      " 여러분 반갑습니다. 쏘악을 씻고 친절하게 알려주는 친절한 영연쌤이에요. 우리 지금까지 삼각형을 변을 길이, 가게 크기에 따라서 분류해 보았죠. 이번 시간에는 이 두 가지 기준을 모두 사용해서 삼각형을 분류해 볼 거예요. 오늘은 지난번에 배운 내용이 많이 나오니까 조금 더 자신감을 갖게 되었고요. 이번 시간에는 이 두 가지 기준을 모두 사용해서 삼각형을 분류해 볼 거예요. 그러니까 조금 더 자신감을 갖고 재미있게 공부해 볼까요? 우리 삼각형을 두 가지 기준에 따라서 분류를 했고 첫 번째 기준은 삼각형을 변의 길이에 따라서 분류하는 것이었습니다. 변의 길이에 따라서는 어떻게 분류할 수 있었나요? 자, 일단 여기서 이 삼각형의 새 변을 살펴보고 여기서 길이가 같은 면이 몇 개가 있는지를 살펴봤어요. 그리고 거기서 세변의 길이가 모두 다른 삼각형도 있고 두 변의 길이가 같으면 2등면 삼각형, 세변의 길이가 모두 같으면 정 삼각형이라고 불렀어요. 그리고 세변의 길이가 같으면 당연히 두 변의 길이도 같으니까 그걸 2등면 삼각형이라고도 한다고 했었죠. 그래서 선생님은 여기에 있는 이 삼각형들을 보고요. 2등변 삼각형과 3변의 길이가 모두 다른 삼각형으로 분류를 해볼 거예요. 먼저 가 붙어볼게요. 자, 가는 어떤가요? 네, 가을 봤더니 여기에 있는 이 두 변의 길이가 같습니다. 그렇다면 2등변 삼각형이라고 할 수 있겠죠? 나는 어때요? 나는 3변의 길이가 모두 달라요. 따라서 두 번째 빈칸을 써주면 되겠네요. 다음, 단은 어떤가요? 자, 단은요. 여기 이렇게 두 변의 길이가 같으니까 2등면 삼각형이라고 할 수 있고요. 라는 3변의 길이가 모두 달라요. 그래서 이렇게 써주고요. 또, 아는 어떤가요? 마도스\n"
     ]
    }
   ],
   "source": [
    "# small\n",
    "import ffmpeg as ff\n",
    "import os\n",
    "from transformers import pipeline\n",
    "\n",
    "# 동영상에서 처음 2분 오디오만 추출\n",
    "def extract_first_2min_audio(video_path, audio_path):\n",
    "    ff.input(video_path, ss=0, t=120).output(audio_path).run()\n",
    "\n",
    "# Whisper 모델로 오디오 처리\n",
    "def transcribe_audio(audio_path):\n",
    "    transcriber = pipeline(\"automatic-speech-recognition\", model=\"openai/whisper-small\")\n",
    "    result = transcriber(audio_path)\n",
    "    return result['text']\n",
    "# 예시 사용\n",
    "video_path = './test.mp4'\n",
    "audio_path = 'audio_output.wav'\n",
    "\n",
    "# 처음 2분 오디오 추출\n",
    "extract_first_2min_audio(video_path, audio_path)\n",
    "\n",
    "# 추출된 오디오를 Whisper로 처리\n",
    "transcript = transcribe_audio(audio_path)\n",
    "print(transcript)"
   ]
  },
  {
   "cell_type": "code",
   "execution_count": 4,
   "metadata": {},
   "outputs": [
    {
     "name": "stderr",
     "output_type": "stream",
     "text": [
      "c:\\Users\\user\\anaconda3\\envs\\myenv\\lib\\site-packages\\huggingface_hub\\file_download.py:159: UserWarning: `huggingface_hub` cache-system uses symlinks by default to efficiently store duplicated files but your machine does not support them in C:\\Users\\user\\.cache\\huggingface\\hub\\models--openai--whisper-large. Caching files will still work but in a degraded version that might require more space on your disk. This warning can be disabled by setting the `HF_HUB_DISABLE_SYMLINKS_WARNING` environment variable. For more details, see https://huggingface.co/docs/huggingface_hub/how-to-cache#limitations.\n",
      "To support symlinks on Windows, you either need to activate Developer Mode or to run Python as an administrator. In order to see activate developer mode, see this article: https://docs.microsoft.com/en-us/windows/apps/get-started/enable-your-device-for-development\n",
      "  warnings.warn(message)\n"
     ]
    },
    {
     "name": "stdout",
     "output_type": "stream",
     "text": [
      " 여러분, 반갑습니다. 수학을 쉽고 친절하게 알려주는 친절한 영연 쌤이에요. 우리 지금까지 삼각형을 변의 길이, 각의 크기에 따라서 분류해 보았죠? 이번 시간에는 이 두 가지 기준을 모두 사용해서 삼각형을 분류해 볼 거예요. 오늘은 지난번에 배운 내용이 많이 나오니까 조금 더 자신감을 갖고, 더 많은 기술을 배울 수 있도록 노력해 볼 거예요. 그럼, 다음 시간에 만나요! 재미있게 공부해 볼까요? 우리 삼각형을 두 가지 기준에 따라서 분류를 했고, 첫 번째 기준은 삼각형을 변의 길이에 따라서 분류하는 것이었습니다. 변의 길이에 따라서는 어떻게 분류할 수 있었나요? 일단, 여기서 삼각형의 세 변을 살펴보고, 여기서 길이가 같은 변이 몇 개가 있는지를 살펴봤어요. 그리고 거기서 3변의 길이가 모두 다른 삼각형도 있고, 2변의 길이가 같으면 이등면 삼각형, 3변의 길이가 모두 같으면 정삼각형이라고 불렀어요. 그리고 3변의 길이가 같으면 당연히 2변의 길이도 같으니까 그걸 이등면 삼각형이라고도 한다고 했었죠. 그래서 선생님은 여기에 있는 이 삼각형들을 보고요. 이등면 삼각형과 3변의 길이가 모두 다른 삼각형으로 분류를 해 볼 거예요. 먼저, 가 부터 볼게요. 자, 가는 어떤가요? 네, 가를 봤더니 여기에 있는 이 두 변의 길이가 같습니다. 그렇다면, 이등면 삼각형이라고 할 수 있겠죠? 나는 어때요? 나는 세 변의 길이가 모두 달라요. 따라서 두 번째 빈칸을 써주면 되겠네요. 다음, 다는 어떤가요? 자, 다는요. 여기 이렇게 두 변의 길이가 같으니까 이등면 삼각형이라고 할 수 있고요. 라는 세변의 길이가 모두 달라요. 그래서 이렇게 써주고요. 또, 와는 어떤가요? 마도...\n"
     ]
    }
   ],
   "source": [
    "# large\n",
    "import ffmpeg as ff\n",
    "import os\n",
    "from transformers import pipeline\n",
    "\n",
    "# 동영상에서 처음 2분 오디오만 추출\n",
    "def extract_first_2min_audio(video_path, audio_path):\n",
    "    ff.input(video_path, ss=0, t=120).output(audio_path).run()\n",
    "\n",
    "# Whisper 모델로 오디오 처리\n",
    "def transcribe_audio(audio_path):\n",
    "    transcriber = pipeline(\"automatic-speech-recognition\", model=\"openai/whisper-large\")\n",
    "    result = transcriber(audio_path)\n",
    "    return result['text']\n",
    "\n",
    "# 예시 사용\n",
    "video_path = './test.mp4'\n",
    "audio_path = 'audio_output1.wav'\n",
    "\n",
    "# 처음 2분 오디오 추출\n",
    "extract_first_2min_audio(video_path, audio_path)\n",
    "\n",
    "# 추출된 오디오를 Whisper로 처리\n",
    "transcript = transcribe_audio(audio_path)\n",
    "print(transcript)"
   ]
  },
  {
   "cell_type": "code",
   "execution_count": 3,
   "metadata": {},
   "outputs": [
    {
     "name": "stderr",
     "output_type": "stream",
     "text": [
      "c:\\Users\\user\\anaconda3\\envs\\myenv\\lib\\site-packages\\transformers\\models\\whisper\\generation_whisper.py:496: FutureWarning: The input name `inputs` is deprecated. Please make sure to use `input_features` instead.\n",
      "  warnings.warn(\n",
      "Due to a bug fix in https://github.com/huggingface/transformers/pull/28687 transcription using a multilingual Whisper will default to language detection followed by transcription instead of translation to English.This might be a breaking change for your use case. If you want to instead always translate your audio to English, make sure to pass `language='en'`.\n",
      "Passing a tuple of `past_key_values` is deprecated and will be removed in Transformers v4.43.0. You should pass an instance of `EncoderDecoderCache` instead, e.g. `past_key_values=EncoderDecoderCache.from_legacy_cache(past_key_values)`.\n",
      "The attention mask is not set and cannot be inferred from input because pad token is same as eos token. As a consequence, you may observe unexpected behavior. Please pass your input's `attention_mask` to obtain reliable results.\n"
     ]
    },
    {
     "name": "stdout",
     "output_type": "stream",
     "text": [
      " 여러분, 반갑습니다. 수학을 쉽고 친절하게 알려주는 친절한 영현쌤이에요. 우리 지금까지 삼각형을 변의 길이, 각의 크기에 따라서 분류해 보았죠. 이번 시간에는 이 두 가지 기준을 모두 사용해서 삼각형을 분류해 볼 거예요. 오늘은 지난번에 배운 내용이 많이 나오니까 조금 더 자신감을 갖고 시작해 볼게요. 그럼, 잘 부탁드립니다. 재밌게 공부해 볼까요? 우리 삼각형을 두 가지 기준에 따라서 분류를 했고, 첫 번째 기준은 삼각형을 변의 길이에 따라서 분류하는 것이었습니다. 변의 길이에 따라서는 어떻게 분류할 수 있었나요? 자, 일단 여기서 이 삼각형의 세 변을 살펴보고, 여기서 길이가 같은 변이 몇 개가 있는지를 살펴봤어요. 그리고, 거기서 세변의 길이가 모두 다른 삼각형도 있고, 두변의 길이가 같으면 이등면 삼각형, 세변의 길이가 모두 같으면 정삼각형이라고 불렀어요. 그리고 세변의 길이가 같으면 당연히 두변의 길이도 같으니까, 그걸 이등면 삼각형이라고도 한다고 했었죠. 그래서 선생님은 여기에 있는 이 삼각형들을 보고요, 이등면 삼각형과 세변의 길이가 모두 다른 삼각형으로 분류를 해 볼 거예요. 먼저, 가 부터 볼게요. 자, 가는 어떤가요? 네, 가를 봤더니 여기에 있는 이 두 변의 길이가 같습니다. 그렇다면, 이등면 삼각형이라고 할 수 있겠죠? 나는 어때요? 나는 세 변의 길이가 모두 달라요. 따라서 두 번째 빈칸을 써주면 되겠네요. 다음, 다는 어떤가요? 자, 다는요? 여기 이렇게 두 변의 길이가 같으니까 이등면 삼각형이라고 할 수 있고요. 라는 세변의 길이가 모두 달라요. 그래서 이렇게 써 주고요. 또 와는 어떤가요?\n"
     ]
    }
   ],
   "source": [
    "# medium\n",
    "\n",
    "# 동영상에서 처음 2분 오디오만 추출\n",
    "def extract_first_2min_audio(video_path, audio_path):\n",
    "    ff.input(video_path, ss=0, t=120).output(audio_path).run()\n",
    "\n",
    "# Whisper 모델로 오디오 처리\n",
    "def transcribe_audio(audio_path):\n",
    "    transcriber = pipeline(\"automatic-speech-recognition\", model=\"openai/whisper-medium\")\n",
    "    result = transcriber(audio_path)\n",
    "    return result['text']\n",
    "\n",
    "# 예시 사용\n",
    "video_path = './test.mp4'\n",
    "audio_path = 'audio_output2.wav'\n",
    "\n",
    "# 처음 2분 오디오 추출\n",
    "extract_first_2min_audio(video_path, audio_path)\n",
    "\n",
    "# 추출된 오디오를 Whisper로 처리\n",
    "transcript = transcribe_audio(audio_path)\n",
    "print(transcript)\n"
   ]
  },
  {
   "cell_type": "code",
   "execution_count": 3,
   "metadata": {},
   "outputs": [
    {
     "name": "stderr",
     "output_type": "stream",
     "text": [
      "c:\\Users\\user\\anaconda3\\envs\\myenv\\lib\\site-packages\\transformers\\models\\whisper\\generation_whisper.py:496: FutureWarning: The input name `inputs` is deprecated. Please make sure to use `input_features` instead.\n",
      "  warnings.warn(\n"
     ]
    }
   ],
   "source": [
    "script = whisper_medium('./audio.mp3', generate_kwargs={\"language\" : \"korean\"})"
   ]
  },
  {
   "cell_type": "code",
   "execution_count": 6,
   "metadata": {},
   "outputs": [
    {
     "name": "stdout",
     "output_type": "stream",
     "text": [
      " 여러분, 반가워요. 선생님은 여러분에게 수학을 쉽고 재미있게 알려주는 친절한 영향샘이에요. 우리 오늘부터 4학년 1학기 수학을 함께 공부해 볼 텐데요. 우리 친구들 모두 준비 됐나요? 그럼 지금부터 힘차게 공부를 시작해 볼까요? 첫 번째로 만에 대해서 알아볼 거예요. 우리 지금까지 배웠던 수를 한번 떠올려볼게요. 우리 제일 처음에 1을 배웠죠. 1은 어느 정도의 수인가요? 선생님이 이해하기 쉽게 수모형을 가지고 왔어요. 이렇게 작은 것이 바로 1을 의미하는 수모형이죠. 그럼 10은 어느 정도의 수인가요? 이 1이 10개가 있으면 10이죠. 그래서 이 정도 되는 수모형으로 나타낼 수 있는 수를 한번 떠올려볼게요. 이 10이 10개가 있는 게 100이죠. 그러니까 이 정도 되는 수모형으로 나타낼 수 있었어요. 그럼 1000은 어떤 수인가요? 이 100이 10개가 있는 것과 같죠. 그래서 이런 수모형으로 나타낼 수 있었습니다. 그럼 1000이 2개가 있는 수는 어떻게 나타냈어요? 1000이 있었고, 이 1000이 2개가 있다 라고 해서 이 천이 두 개가 있다. 라고 해서 이천 이렇게 나타낼 수 있었고, 그럼 천이 다섯 개가 있으면 이렇게 써서 오천이라고 나타낼 수 있었죠. 그럼 이렇게 천이 아홉 개가 있으면 어떻게 나타낼까요? 천이 있고, 천이 아홉 개가 있다. 라고 해서 구천으로 나타낼 수 있었죠. 그럼 여기서 천이 하나가 더 있어서 천이 10개가 있는 수를 어떻게 나타낼 수 있을까요? 원래는 천이 있었고, 이 천이 10개가 있다 라고 해서 이렇게 써줄 수 있는 거예요. 1 뒤에 0을 4개를 붙여서 나타내었습니다. 정리해 보면요. 천이 10개인 수를 우리는 1 뒤에 0을 4개를 붙여 쓰거나 숫자와 글자를 붙여서 쓸 수도 있고 읽을 때는 만 또는 1만이라고 읽어주면 되는 것입니다. 그러면요, 이 만을 여러 가지 방법으로 표현해 볼까요? 먼저 만은 천이 몇 개인수라고 했나요? 천이? 10개인수다라고 아까 얘기를 했었죠. 그럼 9,000보다는 1000만큼 더 큰 수고요. 9,900보다는 100만큼 더 큰 수고, 9,990보다는 10만큼 더 큰 수고, 9999보다는 1만큼 더 큰 수예요. 이 개념이 조금 외우기가 어렵다면 우리는 돈을 생각해 볼 수 있어요. 만 원짜리 한번 생각해 볼까요? 지금 우리는 만 원짜리를 만들 거예요. 천 원짜리 몇 장이 있어야 만 원짜리 한 장이 되죠? 열 장이 있어야 만 원짜리 한 장이 되고요. 구천 원에서 얼마가 더 있어야? 천 원이 더 있어야 만 원이 되고, 구천 구백 원에서는 백 원이 더 있어야 만 원이 되죠. 9,990원에서는 10원이 더 있어야 만원이 되고, 9,999원에서는 1원이 더 있으면 만원이 되는 것입니다. 이 내용은 시험에 정말 자주 나오는 내용이니까 잘 기억해 놓도록 할게요. 그럼 문제를 보며 생각해 볼게요. 많이, 얼마만큼의 수인지 알아보세요. 라고 했어요. 여기 천이 여러 개가 나와 있습니다. 먼저, 만 만큼 색칠해 보세요. 라고 했어요. 천을 몇 개를 색칠하면 많이 될까요? 천을 10개를 색칠하면 만이 되겠죠. 그래서 하나, 둘, 셋, 넷, 다섯, 여섯, 일곱, 여덟, 아홉, 열. 이렇게 그려서 나타내어 주었습니다. 그러면 이제 천이 몇 개인 수를 만이라고 한다고요? 네, 천이 10개인 수를 만이라고 하고요. 만은 어떻게 읽을 수 있어요? 그렇죠. 만 또는 1만. 이렇게 읽어 줄 수 있어요. 그럼, 만은 7,000보다는 얼마만큼 더 큰 수일까요? 자, 이런 문제가 나오면 우리 돈을 생각해 보라고 했잖아요. 만 원은 7,000원보다 얼마만큼 더 많은 거예요? 그렇죠. 3,000원 만큼 더 많은 거예요. 그래서 여기는 3,000 이렇게 써 주면 되겠습니다. 만의 개념에 대해서 잘 알아 보았죠? 많은 1 뒤에 0, 4개를 쓴다는 거 잘 기억해 둘게요. 이번에는 다섯 자리 수에 대해서 알아볼게요. 다섯 자리 수를 알아볼 텐데, 이 수는 얼마만큼의 수인지를 알아 봅시다. 이렇게 다섯 자리 수가 나와 있어요. 그럼 오른쪽 끝에서부터 1, 10, 100, 1000, 만의 자리다 라고 생각하면 됩니다. 그럼 먼저 9는 지금 만의 자리에 있죠. 그렇다면 사실 이 9가 의미하는 것은 바로 9만이 되겠고요. 3이 천의 자리에 있죠. 그렇다면 이 3이 의미하는 것은 바로 3천이 되는 거예요. 1이 백의 자리에 있죠. 그렇다면 이 1이 의미하는 것은 100이고요. 2는 10의 자리에 있잖아요. 그래서 이 2가 의미하는 것은 사실 20입니다. 다음 4는 1의 자리에 있죠. 그래서 이 4는 그대로 4를 의미한다. 이렇게 생각해 줄 수 있는 거예요. 그래서 이 다섯 자리 수를 덧셈식으로 나타내세요. 라고 한다면 이렇게 써 줄 수 있어요. 9만 더하기, 3천 더하기, 100 더하기, 20 더하기, 4. 이렇게요. 그럼 이 수를 어떻게 읽을 수 있을까요? 우리 수를 읽을 때는 이 숫자와 그 자리를 붙여서 읽으면 되는 거예요. 그런데 1의 자리는 생략하고 한번 읽어 볼게요. 9만 3천 124 이렇게 읽어주면 되겠네요. 그럼 정리해 볼게요. 만이 9개, 천이 3개, 백이 1개, 십이 2개, 1이 4개인 수를 어떻게 써요? 이렇게 쓰고요. 읽을 때는 9만 3천 124 이렇게 읽어주면 되는 것입니다. 그런데 여기서 여러분들이 주의할 점이 있습니다. 예를 들어 아래를 보세요. 이런 수가 있습니다. 이런 수는 어떻게 읽을 수 있을까요? 이런 수가 있어요. 이런 수는 어떻게 읽느냐? 먼저 5가 만의 자리에 있으니까 이 5는 5만을 의미하고 천의 자리에 0이 있으니까 그 자리에는 아무것도 없죠. 다음 백의 자리에 6이 있으니까 그렇죠. 이 수는 600을 의미하고 십의 자리에 3이 있으니까 이 수는 30 일의 자리에 7이 있으니까 그대로 7을 의미하는 것인데요. 가끔 이 수를 읽을 때 어떤 친구들은 5만 0,637 이렇게 읽는 친구들이 있어요. 그런데 우리 수를 읽을 때 그 가운데 0이 있으면 그 자리는 읽지 않으면 되는 거예요. 그래서 이 수는 어떻게 읽는다? 그렇죠. 5만 637 이렇게만 읽어주면 되는 것이죠. 이제 다섯 자리 수에 대해서도 잘 알겠죠? 그럼 문제를 보면서 이해해 볼게요. 네모 안에 알맞은 수를 써넣으세요라고 했어요. 123개, 1000이 7개, 109개, 10이 5개, 1이 8개인 수예요. 123개면 3만인데, 만의 자리 수는 3이니까, 그렇죠. 3만 이렇게 써주면 됩니다. 다음, 1000의 자리는 어떤 수가 들어갈까요? 1000이 7개라고 했으니까 여기는 7이 들어가겠고, 이 7이 의미하는 것은 7천입니다. 다음, 100이 9개라고 했죠. 그럼 100의 자리에는 9가 들어가겠고, 이 수가 의미하는 것은 900이 되겠죠. 다음, 10이 5개라고 했으니까 10의 자리에는 5가 들어가고, 이 수가 의미하는 것은 50이 됩니다. 다음, 1의 자리. 1이 8개잖아요. 그러니까 여기는 8이 들어가겠고, 그대로 8을 의미하는 것이죠. 이렇게 5자리 수의 자리 값을 알아보는 문제까지 잘 해결했고요. 그럼 우리가 배운 개념이 문제에선 어떻게 나오는지 함께 살펴볼까요? 교제 10조 개, 1번 문제입니다. 많이 되도록 묶어보세요라고 했습니다. 지금 천이 여러 개가 있죠. 천이 몇 개가 있으면 많이다? 천이? 10개가 있으면 많이다? 그럼 여기서 10개를 묶어주면 되겠네요. 5개씩 두 줄 묶어주면 되겠죠. 그래서 선생님은 이렇게 묶어서 나타내어 보았습니다. 이 문제는 여러분이 만에 대해서 잘 알고 있는지를 물어보는 문제였어요. 그 중에서도 가장 중요한 개념. 천이 10개가 있는 수가 만이다. 라는 거 알아야지 해결할 수 있는 문제였죠? 잘 기억해 놓고 이어서 2번 문제를 볼게요. 빈칸에 알맞은 수를 써놓으세요라고 했어요. 여기 규칙에 따라서 뛰어 세기를 하고 있네요. 뛰어 세기를 할 때 여기 이 숫을 먼저 살펴보면 좋겠죠. 6,000, 7,000, 8,000이 나와 있어요. 6,000부터 시작해서 얼마씩 커지고 있죠? 1,000씩 커지고 있습니다. 그럼 여기 첫 번째 빈칸에는 8,000보다 1,000 큰 숫, 9,000이 들어가면 되겠고 두 번째 빈칸에는 9,000보다 1,000 큰 숫, 바로 많이 들어가면 되겠네요. 다음 두 번째, 이번에는 9700, 9800이 나와 있죠. 여기는 얼마씩 커지고 있나요? 바로 100씩 커지고 있다고 생각할 수 있죠. 그럼 첫 번째 빈칸에는 9700보다 100 작은 수 9600을 써주면 되겠고 두 번째 빈칸에는 9800보다 100 큰 수 9900을 써주면 됩니다. 그다음, 9900보다 100 큰 수는 많이니까 여기 많이 나왔다는 거 알 수 있겠죠? 다음, 세 번째 문제 볼까요? 9960, 9970 지금 수가 9960부터 시작해서 10씩 커지고 있어요. 그럼 첫 번째 빈칸에는 9970보다 10 큰 수, 9980 써주면 되겠고 두 번째 빈칸에는 9990보다 10큰 수, 바로 만을 써주면 되는 것이죠. 이 문제는요. 뛰어 세기를 통해서 만의 의미를 잘 알고 있는지를 물어보는 문제였어요. 사실 이 문제에서 가장 중요한 부분은 바로 이 부분이죠. 여기서 9000보다 1000큰 수가 많이고, 9900보다 100큰 수가 많이고, 9990보다 10큰 수가 많이다라는 거 생각해서 이 문제를 해결해 주면 되겠습니다. 다음 3번 문제예요. 네모 안에 알맞은 수를 써넣으세요 라고 했어요. 여기 네모 안에 들어갈 수는 얼마일까 하고 봤더니 여기 수직선이 나와 있습니다. 수직선이 나와 있을 때는 이 수직선의 한 칸의 크기를 아는 것이 가장 중요해요. 여기 한 칸의 크기가 얼마인지 한번 살펴볼까요? 9700과 많이 있어요. 9700보다 300 큰 수가 많이니까 아, 이 한 칸은 300을 의미하는구나 라는 거 알 수 있죠? 그럼 이 기호가 있는 이 별에 알맞은 수는 얼마일까요? 9100보다 300 큰 수, 또 9700보다는 300 작은 수겠죠. 바로 그렇죠. 9400이 들어가는 것입니다. 그렇다면, 마음보다 얼마만큼 더 작은 수가 9100이 되는 것일까요? 마는 여기에 있고 9100은 여기에 있죠. 이만큼 작은 수예요. 라고 얘기를 하면 되는데, 봤더니 300, 3칸만큼 더 가 있죠. 300, 600, 900. 아, 3칸이면 900을 의미하는 거니까, 900만큼 더 작은 수구나. 이렇게 생각할 수 있는 것이죠. 그래서 만보다 900만큼 더 작은 수는 9100입니다. 이렇게 적어 주면 되는 것입니다. 이렇게 수직선이 나와 있을 때 가장 먼저 할 일은 수직선 눈금 한 칸의 크기를 아는 것이다. 라고 했었죠. 이런 문제를 풀 때는 수직선을 보고도 문제를 해결해 줄 수 있고 아까 선생님이 얘기했던 것처럼 돈을 떠올려봐도 좋아요. 만 원보다 얼마만큼 더 적으면 9100원이 되는지 그래서 정답은 900원이다. 이렇게 생각해 줄 수도 있는 것이죠. 잘 알아놓고요. 다음 4번, 중요표시 있는 문제를 볼게요. 수호가 가지고 있는 돈은 얼마인지 구해 보세요. 친구들의 대화를 살펴볼게요. 먼저 민영이가 나는 2천 원을 가지고 있어. 라고 했고, 수호는 나는 4무원을 가지고 있어. 라고 했어요. 그랬더니 민영이가 우리가 가지고 있는 돈을 모두 더하면 만원이 되는구나 라고 얘기를 했죠. 지금 민영이가 2천 원을 가지고 있고, 또 수호가 얼마를 가지고 있었는데 그 둘이 가진 돈을 더하니까 만원이 되었다 라는 것이죠. 여러분, 천 원짜리 몇 장이 있으면 만원입니까? 천 원짜리? 열 장이 있으면 만원이 되죠. 그럼 여기서 민영이가 가진 돈은 얼마만큼인가요? 민영이는 2천 원을 가지고 있죠. 그러니까 이만큼이 민영이가 가진 돈이구나. 이렇게 생각할 수 있어요. 그러면 두 사람이 가진 돈을 모두 더했을 때 만 원이 되었다. 라고 했으니까 수호는 이만큼의 돈을 가지고 있구나. 라고 생각할 수 있는 것이죠. 수호는 지금 천 원짜리 8장을 가지고 있습니다. 그럼 8천 원이잖아요. 그래서 수호가 가지고 있는 돈 바로 8천 원입니다. 이렇게 써주면 되는 것입니다. 이 문제도 역시 만의 개념을 잘 알고 있는지를 물어보는 문제였는데요. 천 원짜리, 열 장이 있으면 만 원이 된다 라고 생각해주면 되는 것입니다. 이어서 5번 문제를 볼게요. 네모 안에 알맞은 수를 써놓으세요 라고 했어요. 다섯 자리 수가 나왔죠. 이 수는 만, 천, 백, 십, 일, 이 몇 개인 수인지를 묻고 있습니다. 각각의 자리를 잘 살펴봐야겠죠. 이 수가 있는데요. 오른쪽 끝에서부터 1, 10, 100, 1000, 만의 자리라고 했죠. 먼저 3은 만의 자리에 있으니까 만이 3개가 있다 라고 할 수 있고 다음 5는 천의 자리에 있으니까 천이 5개가 있다. 이렇게 얘기할 수 있죠. 다음 7은 백의 자리에 있으니까 백이 7개. 또 6은 10의 자리에 있으니까 10이 6개. 다음, 9는 1의 자리에 있으니까 1이 9개인 수입니다. 라고 이렇게 적어주면 되는 것입니다. 5짜리 수의 각각의 자리가 어떤 수를 의미하는지를 물어보는 문제였습니다. 각각의 어떤 자리인지를 살펴서 문제를 해결해 주면 되는 것이죠. 다음은 6번, 중료표시 있는 문제를 볼게요. 수를 바르게 읽은 것은 어느 것일까요? 라고 했어요. 5짜리 수를 어떻게 읽는다고 했죠? 네, 그렇죠. 숫자와 그 자리를 붙여서 읽어주면 된다고 했어요. 왼쪽에서부터는 11,111의 자리잖아요. 먼저 1번부터 볼까요? 이 수는 6만 6천 7백 30 이라고 읽을 수 있는데, 여기 바르게 나와 있죠? 그래서 동그라미 해줄게요. 다음 2번. 이번에는 4자리 수가 나와 있어요. 4자리 수는? 그렇죠. 여기서부터 1, 10, 100, 1000의 자리니까 9,138이라고 읽어야 하는데 여기 9만 138이라고 읽었죠. 그래서 이번에는 틀렸습니다. 그럼 9만 138은 어떻게 쓸 수 있을까요? 일단 만의 자리까지 있으니까 다섯 자리 수죠. 그리고 만의 자리에는 9를 쓰고 100이니까 100의 자리에 1, 30이니까 10의 자리에 3, 8이니까 1의 자리에 8을 써주는데 그냥 여기를 비워두면 될까요? 안 되죠. 다섯 자리 수를 만들어야 하니까 여기 빈 자리는 아무것도 없음을 나타내는 0을 써줘야 합니다. 아, 그래서 이 수는 이렇게 잘못 읽은 거군요. 다섯 자리에서 이렇게 0이 있을 때는 읽지 않는 거니까 이렇게 나타내어야 한다는 거. 함께 알아놓고, 다음 3번입니다. 자, 이 수는 2만 5,806 이렇게 읽어야 하는데 2만 5,860이라고 읽어버렸죠. 아마 이 6이 1의 자리가 아니라 10의 자리에 있다고 생각을 했나 봐요. 그래서 3번은 아니고요. 다음 4번. 자, 4번은 5만 4,110인데 5만 4,011이라고 읽어버렸죠. 그래서 4번도 아니고요. 다음 5번, 이 수는 33917 이렇게 읽어야 하는데 33917이라고 읽었어요. 천의 자리와 만의 자리를 바꾸어서 읽었죠. 그래서 이것도 아닙니다. 이 문제에선 수를 바르게 읽은 것을 찾으라고 했어요. 그래서 정답은 바로 1번입니다. 라고 이렇게 찾아주면 되는 것입니다. 이 문제는 여러분들이 다섯 자리 수를 잘 읽을 수 있는지를 물어보는 문제였어요. 그 숫자와 자리를 붙여서 읽으면 되고, 이렇게 0이 있으면 그 0이 있는 부분은 읽지 않아도 되고요. 그리고 이렇게 네 자릿수는, 그렇죠. 가장 앞에 있는 자릿수가 천의 자리가 된다는 것도 함께 기억해 둘게요. 다음은 7번입니다. 각 자리의 숫자가 나타내는 값의 합으로 나타내어 보세요라고 했습니다. 다섯 자릿수를 더 쌤식으로 나타내는 문제가 나왔어요. 이런 문제가 나오면 각각의 수들의 자릿값을 밝혀서 써주면 되는 건데요. 먼저 이는 만의 자리에 있죠. 그렇다면 이만을 의미하는 거니까 여기는 이 뒤에 0, 4개를 붙여서 써줄게요. 다음 구는 천의 자리에 있죠. 그럼 구천을 의미하니까 여기는 구천을 써주고요. 다음 3은 백의 자리에 있으니까 300을 의미하고 6은 10의 자리에 있으니까 60, 8은 1의 자리에 있으니까 그대로 8을 의미하는 것입니다. 그럼 두 번째 문제도 똑같이 해결해 볼게요. 역시 여기 앞에 있는 수는, 그렇죠. 바로 만의 자리에 있으니까 사실은 5만을 의미하고, 다음 1은 천의 자리에 있으니까 천을 의미합니다. 다음 7은 백의 자리에 있으니까 700을 의미하고, 9는 10의 자리에 있으니까 90, 2는 1의 자리에 있으니까 그대로 2를 써주면 되는 것이죠. 5자리 수를 더 쌤식으로 나타내는 문제였어요. 이런 문제가 나오면 각각의 자리를 살펴보고 그 자리 값을 밝혀서 이렇게 써주면 된다는 거. 여러분도 할 수 있겠죠? 다음은 8번 문제입니다. 수지가 적음통에 넣은 돈을 모두 꺼냈더니 다음과 같았습니다. 수지가 저금통에 넣은 돈은 모두 얼마인지 구해보세요. 라고 했어요. 자, 여기 돈을 받는데, 돈들이 조금 뒤죽박죽 섞여 있어서 알아보기가 쉽지 않죠. 이런 문제가 나왔을 때, 선생님의 비법이 있습니다. 같은 것끼리 모아보는 것이죠. 그때는 같은 기호를 써주면 좋아요. 먼저 만 원짜리는 동그라미로 표시해 볼까요? 봤더니 하나, 둘, 셋, 넷, 다섯, 여섯, 일곱장이 있어요. 만 원짜리 일곱 장이면 칠만 원이죠. 이렇게 써주고, 다음 천 원짜리는 세모로 표시해 볼게요. 하나, 둘, 셋, 세 장이 있죠. 천 원짜리 세 장이면 삼천 원이잖아요. 다음 백 원짜리 볼게요. 백 원짜리는 이렇게 표시해 볼게요. 하나, 둘, 셋, 넷, 다섯, 여섯, 일곱, 여덟, 아홉 개가 있어요. 그러면 900원이 되는 것이고, 다음 10원짜리는 이렇게 표시합니다. 하나, 둘, 셋, 넷, 네 개가 있죠. 그럼 40원이 되는 것이고, 이 돈을 모두 더해 볼게요. 그러면 73940원입니다. 라고 이렇게 써주면 되는 것입니다. 자, 1의 자리는 왜 0이 되었을까요? 여기 1원짜리 동전이 없잖아요. 그래서 정답은 이렇게 나타낼 수 있었네요. 이렇게 돈이 나와 있는 문제가 나오면 선생님처럼 같은 기호를 이용해서 같은 것끼리 묶어보세요. 그럼 훨씬 쉽게 정답을 찾을 수 있을 거예요. 다음은 9번 문제입니다. 어느 공장에서 생산한 구슬을 만 개씩 6상자, 천 개씩 8상자, 백 개씩 5상자, 10개씩 7상자에 나누어 담았더니 구슬이 2개가 남았대요. 공장에서 생산한 구슬은 모두 몇 개인지 구해보세요. 라고 했어요. 아, 이번에는 실생활과 관련된 문제가 나왔는데요. 여기서 만, 천, 백, 십, 그리고 낮게가 그 자리의 수라고 생각하면 쉽겠네요. 먼저 만 개씩 6상자가 있다? 그러면 6만을 의미하는 거잖아요. 그래서 6만 이렇게 써주고 다음, 1000개씩 8상자라고 했죠. 그러면 8,000개니까 8,000 써주고, 다음 100개씩 5상자는 500, 또 10개씩 7상자는 70, 다음 낮게 2개가 있으니까 2까지 더해주면 모두 6만 8,572개가 있습니다. 라고 이렇게 얘기해 줄 수 있는 것이죠. 실생활과 관련하여 5자리 수를 잘 알고 있는지를 물어보는 문제였어요. 여기서도 11111이 있었으니까 이게 각각의 자리라고 생각해서 문제를 해결해주면 되는 거예요. 다음은 10번. 어려운 문제가 나왔어요. 수카드를 모두 한 번씩만 사용하여 만들 수 있는 다섯 자리 수 중 10의 자리 숫자가 3인 가장 큰 수를 만들어 보세요. 라고 했습니다. 수카드를 이용해서 조건에 맞는 수를 만드는 문제 정말 자주 나오는 유형이에요. 자, 선생님이 쉽게 알려 줄게요. 먼저 숫카드를 모두 한 번씩 사용해서 다섯 자리 수를 만든다고 했죠. 다섯 자리라고 하면 일단 빈칸 다섯 개를 그려놓으면 좋아요. 빈칸 다섯 개 그렸고요. 또 여기서 10의 자리 숫자가 3이죠. 10의 자리는 바로 여기에 있는데, 여기 그럼 미리 3을 써주고, 숫카드를 한 번씩만 쓴다고 했으니까 3은 지워 줄게요. 다른 조건, 가장 큰 수를 만든다고 했어요. 수카드로 가장 큰 수를 만들 때 어떻게 하느냐? 여기서 선생님의 비법이 있습니다. 더 높은 자리일수록 큰 수를 써주면 되는 것이죠. 남은 수 중 가장 큰 수는 9, 4, 2, 0 순서니까 높은 자리부터 9, 4, 2, 0 이렇게 써주면 정답은 94,230 이렇게 써줄 수 있는 것이죠. 수카드로 조건에 맞는 수를 만들 때 먼저 빈 칸을 그려놓고요. 가장 큰 수를 만들려고 하면 더 높은 자리일수록 큰 수를 써준다는 것 잘 기억해 놓도록 합시다. 어려운 문제에 접근하는 방법을 배워봅시다. 문제의 결 접근하기 11번 문제예요. 해수욕장을 방문한 관람객 수를 알아보세요라고 했습니다. 먼저 이 문제에서 구하고자 하는 것이 무엇일까요? 그렇죠. 바로 해수욕장을 방문한 관람객 수입니다. 그래서 문제를 볼 때 가장 먼저 구하고자 하는 것을 살펴보면 좋습니다. 그럼 이번에는 문제를 해결할 계획을 세워볼게요. 이 조건을 하나씩 읽어보면 좋겠죠. 먼저 첫 번째 조건은요. 5짜리 수입니다라고 했어요. 두 번째 조건은 2부터 6까지의 숫자를 한 번씩만 사용하였습니다라고 했어요. 그럼 일단 여기 두 개의 조건을 읽었을 때 이 문제를 어떻게 해결하면 좋을까요? 아까 선생님이 숫카드 문제를 풀 때 이렇게 몇 자리 수인지를 알려주면 그걸 먼저 빈 칸으로 나타내고 여기 2부터 6까지의 숫자를 한 번씩만 사용한다고 했으니까 아래 조건을 읽으면서 이 수를 알맞게 찾아주면 되겠네요. 그래서 선생님은 이렇게 써 보았어요. 5짜리 수를 네모 5개라 하고 조건에 맞게 각 자리에 23, 45, 6을 넣어서 문제를 해결해 보겠습니다. 그러면 이번에는 본격적으로 문제를 해결해 볼게요. 세 번째 조건부터 읽어 볼게요. 3만보다 크고 4만보다 작은 수입니다. 우리는 이 조건에서 무엇을 할 수 있을까요? 3만보다 크고 4만보다 작다고 했잖아요. 그럼 우리가 쓸 수 있는 2, 3, 4, 5, 6 중에서 만의 자리에는 어떤 수만 들어갈 수 있어요? 바로 3만 들어갈 수 있습니다. 그럼 우리는 이 수를 3, 네모, 네모, 네모, 네모 이렇게 나타낼 수 있겠죠. 다음 조건, 천의 자리 수는 홀수입니다라고 했어요. 우리 이미 3은 한 번 사용했죠? 그럼 남은 수는 2, 4, 5, 6이 있는데요. 이 중에서 홀수는 뭐예요? 그렇죠. 홀수는 5만 들어갈 수 있어요. 홀수는 노니까 천의 자릿수도 정해졌네요. 3, 5, 네모, 네모, 네모 이렇게 써주면 되겠습니다. 그러면 1의 자릿수는 10의 자릿수보다 크고 10의 자릿수는 100의 자릿수보다 큽니다라고 했는데요. 그렇다는 말은 1의 자리수가 10의 자리수보다 크고, 또 10의 자리수는 100의 자리수보다 크다. 이렇게도 나타낼 수 있는 것이겠죠. 그럼 지금 남은 수 중에서 가장 큰 수가 6, 그 다음이 4, 그 다음이 2잖아요. 그러면 111의 자리에 들어갈 수도 마저 찾을 수 있어요. 자, 어떻게? 6, 4, 2이니까 조건에 알맞은 수는 35246입니다. 라고 이렇게 나타내어질 수 있는 것이죠. 자, 어때요 여러분? 이 조건 하나씩 읽어 보면서 정답을 하나씩 찾아가니까 생각보다 쉽게 문제를 해결할 수 있었죠. 특히 이 문제에선 이 세 번째 조건을 잘 기억해 두길 바랄게요. 그럼 문제 해결 방법을 다시 한번 되돌아 볼까요? 문제를 해결한 방법을 다시 한번 설명해 볼게요. 여러분 어떻게 해결했나요? 선생님은 선생님이 생각나는 대로 이렇게 써 볼 거예요. 먼저 3만보다 크고 4만보다 작은 다섯 자리 수를 3 네모네모네모네모라고 하고 나머지 4개의 수 2, 4, 5, 6을 조건에 맞게 넣습니다. 이렇게 적어 보았습니다. 어때요 여러분? 이 문제가 서수령 문제라서 나는 서수령 문제가 너무 어려워 라고 생각하는 친구가 있을 수도 있어요 그런데 서수령 문제는요 여러분들이 문제를 해결하기 위해서 머릿속으로 문제를 생각하죠 그런데 그 과정을 그냥 글로 옮겨주기만 하면 되는 거예요 찾으면서 중요한 단어가 들어갔는지 정답은 잘 찾았는지만 생각해 주면 되는 거예요 그러니까 항상 겁내지 말고 직접 도전해 주세요 배운 내용 정리해 볼게요 첫 번째로 만을 알아봤어요. 천이 10개인 수를 1 뒤에 0, 4개를 붙여 쓰거나 1만이라 쓰고, 만 또는 1만이라고 읽습니다. 두 번째로 다섯 자리 수를 알아봤어요. 만이 9개, 천이 3개, 백이 1개, 십이 2개, 1이 4개인 수를 이와 같이 쓰고, 9만 3천, 124라고 읽었어요. 오늘의 만점왕 퀴즈 9,900보다 100만큼 더 큰 수는 얼마일까요? 이 문제의 정답을 아는 친구들은 EBS 수강우기 게시판에 정답을 많이 많이 올려주세요. 오늘 배운 내용은 1단원의 핵심이 되는 가장 중요한 내용이니까 꼭 복습해 놓고 우리는 다음 시간에 또 만나요. 그럼 우리 친구들 모두 모두 안녕!\n"
     ]
    }
   ],
   "source": [
    "print(script['text'])"
   ]
  },
  {
   "cell_type": "code",
   "execution_count": 9,
   "metadata": {},
   "outputs": [],
   "source": [
    "with open('script.txt','w',encoding='utf-8') as f:\n",
    "    f.write(script['text'])\n"
   ]
  },
  {
   "cell_type": "code",
   "execution_count": 3,
   "metadata": {},
   "outputs": [
    {
     "name": "stderr",
     "output_type": "stream",
     "text": [
      "c:\\Users\\user\\anaconda3\\envs\\myenv\\lib\\site-packages\\transformers\\models\\whisper\\generation_whisper.py:496: FutureWarning: The input name `inputs` is deprecated. Please make sure to use `input_features` instead.\n",
      "  warnings.warn(\n",
      "You have passed language=korean, but also have set `forced_decoder_ids` to [[1, None], [2, 50360]] which creates a conflict. `forced_decoder_ids` will be ignored in favor of language=korean.\n",
      "The attention mask is not set and cannot be inferred from input because pad token is same as eos token. As a consequence, you may observe unexpected behavior. Please pass your input's `attention_mask` to obtain reliable results.\n"
     ]
    }
   ],
   "source": [
    "script_large = whisper_large('./audio.mp3', generate_kwargs={\"language\" : \"korean\"})"
   ]
  },
  {
   "cell_type": "code",
   "execution_count": 4,
   "metadata": {},
   "outputs": [],
   "source": [
    "with open('script.txt','w',encoding='utf-8') as f:\n",
    "    f.write(script_large['text'])"
   ]
  },
  {
   "cell_type": "code",
   "execution_count": 6,
   "metadata": {},
   "outputs": [
    {
     "name": "stderr",
     "output_type": "stream",
     "text": [
      "c:\\Users\\user\\anaconda3\\envs\\myenv\\lib\\site-packages\\transformers\\models\\whisper\\generation_whisper.py:496: FutureWarning: The input name `inputs` is deprecated. Please make sure to use `input_features` instead.\n",
      "  warnings.warn(\n",
      "You have passed language=korean, but also have set `forced_decoder_ids` to [[1, None], [2, 50359]] which creates a conflict. `forced_decoder_ids` will be ignored in favor of language=korean.\n"
     ]
    }
   ],
   "source": [
    "script_small = whisper_small('./audio.mp3', generate_kwargs={\"language\" : \"korean\"})\n"
   ]
  },
  {
   "cell_type": "code",
   "execution_count": 7,
   "metadata": {},
   "outputs": [],
   "source": [
    "with open('script_small.txt','w',encoding='utf-8') as f:\n",
    "    f.write(script_small['text'])"
   ]
  }
 ],
 "metadata": {
  "kernelspec": {
   "display_name": "myenv",
   "language": "python",
   "name": "python3"
  },
  "language_info": {
   "codemirror_mode": {
    "name": "ipython",
    "version": 3
   },
   "file_extension": ".py",
   "mimetype": "text/x-python",
   "name": "python",
   "nbconvert_exporter": "python",
   "pygments_lexer": "ipython3",
   "version": "3.9.19"
  }
 },
 "nbformat": 4,
 "nbformat_minor": 2
}
